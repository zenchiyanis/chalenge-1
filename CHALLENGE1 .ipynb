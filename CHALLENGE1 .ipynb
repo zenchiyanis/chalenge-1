{
 "cells": [
  {
   "cell_type": "markdown",
   "id": "73fb1ddd",
   "metadata": {},
   "source": [
    "EXERCICE 1"
   ]
  },
  {
   "cell_type": "code",
   "execution_count": 3,
   "id": "35e4bfff",
   "metadata": {},
   "outputs": [
    {
     "name": "stdout",
     "output_type": "stream",
     "text": [
      "x is less than y.\n"
     ]
    }
   ],
   "source": [
    "\n",
    "# step 1: Assign values to x and y\n",
    "x = 10\n",
    "y = 5\n",
    "\n",
    "# Step 2: Swap values without using a temporary variable\n",
    "x = x + y\n",
    "y = x - y\n",
    "x = x - y\n",
    "\n",
    "# Step 3: Conditional printing\n",
    "if x > y:\n",
    "    print(\"x is greater than y.\")\n",
    "elif x < y:\n",
    "    print(\"x is less than y.\")\n",
    "else:\n",
    "    print(\"x and y are equal.\")\n"
   ]
  },
  {
   "cell_type": "markdown",
   "id": "d77b1cc4",
   "metadata": {},
   "source": [
    "EXERCICE 2\n"
   ]
  },
  {
   "cell_type": "code",
   "execution_count": 4,
   "id": "8e20c79a",
   "metadata": {},
   "outputs": [
    {
     "name": "stdout",
     "output_type": "stream",
     "text": [
      "\n",
      "Arithmetic Calculator Menu:\n",
      "1. Add num1 and num2\n",
      "2. Subtract num2 from num1\n",
      "3. Multiply num1 and num2\n",
      "4. Divide num1 by num2\n",
      "5. Exit\n",
      "Enter your choice (1-5): 1\n",
      "The result of adding 10 and 5 is: 15\n",
      "\n",
      "Arithmetic Calculator Menu:\n",
      "1. Add num1 and num2\n",
      "2. Subtract num2 from num1\n",
      "3. Multiply num1 and num2\n",
      "4. Divide num1 by num2\n",
      "5. Exit\n",
      "Enter your choice (1-5): 3\n",
      "The result of multiplying 10 and 5 is: 50\n",
      "\n",
      "Arithmetic Calculator Menu:\n",
      "1. Add num1 and num2\n",
      "2. Subtract num2 from num1\n",
      "3. Multiply num1 and num2\n",
      "4. Divide num1 by num2\n",
      "5. Exit\n",
      "Enter your choice (1-5): 4\n",
      "The result of dividing 10 by 5 is: 2.0\n",
      "\n",
      "Arithmetic Calculator Menu:\n",
      "1. Add num1 and num2\n",
      "2. Subtract num2 from num1\n",
      "3. Multiply num1 and num2\n",
      "4. Divide num1 by num2\n",
      "5. Exit\n",
      "Enter your choice (1-5): 5\n",
      "Exiting the program. Goodbye!\n"
     ]
    }
   ],
   "source": [
    "# Initialize the two numeric variables\n",
    "num1 = 10  # Example value; you can change this\n",
    "num2 = 5   # Example value; you can change this\n",
    "\n",
    "while True:\n",
    "    # Display the menu options\n",
    "    print(\"\\nArithmetic Calculator Menu:\")\n",
    "    print(\"1. Add num1 and num2\")\n",
    "    print(\"2. Subtract num2 from num1\")\n",
    "    print(\"3. Multiply num1 and num2\")\n",
    "    print(\"4. Divide num1 by num2\")\n",
    "    print(\"5. Exit\")\n",
    "\n",
    "    # Get the user's choice\n",
    "    choice = input(\"Enter your choice (1-5): \")\n",
    "\n",
    "    # Perform the corresponding operation\n",
    "    if choice == '1':\n",
    "        result = num1 + num2\n",
    "        print(f\"The result of adding {num1} and {num2} is: {result}\")\n",
    "    elif choice == '2':\n",
    "        result = num1 - num2\n",
    "        print(f\"The result of subtracting {num2} from {num1} is: {result}\")\n",
    "    elif choice == '3':\n",
    "        result = num1 * num2\n",
    "        print(f\"The result of multiplying {num1} and {num2} is: {result}\")\n",
    "    elif choice == '4':\n",
    "        if num2 != 0:\n",
    "            result = num1 / num2\n",
    "            print(f\"The result of dividing {num1} by {num2} is: {result}\")\n",
    "        else:\n",
    "            print(\"Error: Division by zero is not allowed.\")\n",
    "    elif choice == '5':\n",
    "        print(\"Exiting the program. Goodbye!\")\n",
    "        break\n",
    "    else:\n",
    "        print(\"Invalid choice. Please select a valid option (1-5).\")\n"
   ]
  },
  {
   "cell_type": "markdown",
   "id": "3dbefd45",
   "metadata": {},
   "source": [
    "EXERCICE 3"
   ]
  },
  {
   "cell_type": "code",
   "execution_count": 5,
   "id": "238ce180",
   "metadata": {},
   "outputs": [
    {
     "name": "stdout",
     "output_type": "stream",
     "text": [
      "Enter the temperature in Celsius: 23\n",
      "\n",
      "Menu:\n",
      "1. Convert Celsius to Fahrenheit\n",
      "2. Convert Celsius to Kelvin\n",
      "3. Exit\n",
      "Choose an option (1/2/3): 2\n",
      "The temperature in Kelvin is: 296.15K\n",
      "\n",
      "Menu:\n",
      "1. Convert Celsius to Fahrenheit\n",
      "2. Convert Celsius to Kelvin\n",
      "3. Exit\n",
      "Choose an option (1/2/3): 1\n",
      "The temperature in Fahrenheit is: 73.40°F\n",
      "\n",
      "Menu:\n",
      "1. Convert Celsius to Fahrenheit\n",
      "2. Convert Celsius to Kelvin\n",
      "3. Exit\n",
      "Choose an option (1/2/3): 3\n",
      "Exiting the program. Goodbye!\n"
     ]
    }
   ],
   "source": [
    "def celsius_to_fahrenheit(celsius):\n",
    "    return (celsius * 9/5) + 32\n",
    "\n",
    "def celsius_to_kelvin(celsius):\n",
    "    return celsius + 273.15\n",
    "\n",
    "def temperature_converter():\n",
    "    temperature = float(input(\"Enter the temperature in Celsius: \"))\n",
    "    \n",
    "    while True:\n",
    "        print(\"\\nMenu:\")\n",
    "        print(\"1. Convert Celsius to Fahrenheit\")\n",
    "        print(\"2. Convert Celsius to Kelvin\")\n",
    "        print(\"3. Exit\")\n",
    "        \n",
    "        choice = input(\"Choose an option (1/2/3): \")\n",
    "        \n",
    "        if choice == '1':\n",
    "            fahrenheit = celsius_to_fahrenheit(temperature)\n",
    "            print(f\"The temperature in Fahrenheit is: {fahrenheit:.2f}°F\")\n",
    "        elif choice == '2':\n",
    "            kelvin = celsius_to_kelvin(temperature)\n",
    "            print(f\"The temperature in Kelvin is: {kelvin:.2f}K\")\n",
    "        elif choice == '3':\n",
    "            print(\"Exiting the program. Goodbye!\")\n",
    "            break\n",
    "        else:\n",
    "            print(\"Invalid choice. Please try again.\")\n",
    "\n",
    "# Run the temperature converter\n",
    "temperature_converter()\n"
   ]
  },
  {
   "cell_type": "markdown",
   "id": "1e5ab6ca",
   "metadata": {},
   "source": [
    "EXERCICE 4\n"
   ]
  },
  {
   "cell_type": "code",
   "execution_count": 11,
   "id": "3663f808",
   "metadata": {},
   "outputs": [
    {
     "name": "stdout",
     "output_type": "stream",
     "text": [
      "The number is even.\n"
     ]
    }
   ],
   "source": [
    "# Assign an integer value to the variable\n",
    "number = 58\n",
    "\n",
    "# Check if the number is odd or even\n",
    "if number % 2 == 0:\n",
    "    print(\"The number is even.\")\n",
    "else:\n",
    "    print(\"The number is odd.\")"
   ]
  },
  {
   "cell_type": "markdown",
   "id": "11d712cd",
   "metadata": {},
   "source": [
    "EXERCICE 5"
   ]
  },
  {
   "cell_type": "code",
   "execution_count": 12,
   "id": "e5138681",
   "metadata": {},
   "outputs": [
    {
     "name": "stdout",
     "output_type": "stream",
     "text": [
      "Strong Password\n"
     ]
    }
   ],
   "source": [
    "# Create a variable and assign it a string value\n",
    "password = \"Pass1234\"  # You can replace this with any password string for testing\n",
    "\n",
    "# Check the strength of the password\n",
    "if len(password) >= 8 and any(char.isalpha() for char in password) and any(char.isdigit() for char in password):\n",
    "    print(\"Strong Password\")\n",
    "else:\n",
    "    print(\"Weak Password\")\n"
   ]
  },
  {
   "cell_type": "code",
   "execution_count": null,
   "id": "b88de17b",
   "metadata": {},
   "outputs": [],
   "source": []
  }
 ],
 "metadata": {
  "kernelspec": {
   "display_name": "Python 3 (ipykernel)",
   "language": "python",
   "name": "python3"
  },
  "language_info": {
   "codemirror_mode": {
    "name": "ipython",
    "version": 3
   },
   "file_extension": ".py",
   "mimetype": "text/x-python",
   "name": "python",
   "nbconvert_exporter": "python",
   "pygments_lexer": "ipython3",
   "version": "3.9.13"
  }
 },
 "nbformat": 4,
 "nbformat_minor": 5
}
